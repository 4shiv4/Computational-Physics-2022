{
 "cells": [
  {
   "cell_type": "markdown",
   "id": "cd34ae4c",
   "metadata": {},
   "source": [
    "# Getting started with Python\n",
    "## Printing in Python\n",
    "The `print()` function prints the specified message to the screen, or other standard output device. The message can be a string, or any other object, the object will be converted into a string before written to the screen. To print a string put it between single quotes."
   ]
  },
  {
   "cell_type": "code",
   "execution_count": 1,
   "id": "d2bb5765",
   "metadata": {},
   "outputs": [
    {
     "name": "stdout",
     "output_type": "stream",
     "text": [
      "42\n"
     ]
    }
   ],
   "source": [
    "print(42)"
   ]
  },
  {
   "cell_type": "code",
   "execution_count": 10,
   "id": "9519130a",
   "metadata": {},
   "outputs": [
    {
     "name": "stdout",
     "output_type": "stream",
     "text": [
      "Hello, World!\n"
     ]
    }
   ],
   "source": [
    "print('Hello, World!')"
   ]
  },
  {
   "cell_type": "markdown",
   "id": "ba264be5",
   "metadata": {},
   "source": [
    "## Variables\n",
    "Variables are containers which store the data value. You can initialise any variable and assign it with a number or string."
   ]
  },
  {
   "cell_type": "code",
   "execution_count": 5,
   "id": "7a3c8372",
   "metadata": {},
   "outputs": [],
   "source": [
    "x = 3"
   ]
  },
  {
   "cell_type": "code",
   "execution_count": 12,
   "id": "4b93cd5b",
   "metadata": {},
   "outputs": [],
   "source": [
    "y = 'Hey Bob'"
   ]
  },
  {
   "cell_type": "markdown",
   "id": "89268da3",
   "metadata": {},
   "source": [
    "And now you can use the variable in the place of values in functions and computations."
   ]
  },
  {
   "cell_type": "code",
   "execution_count": 13,
   "id": "df46d95f",
   "metadata": {},
   "outputs": [
    {
     "name": "stdout",
     "output_type": "stream",
     "text": [
      "4\n"
     ]
    }
   ],
   "source": [
    "print(x+1)"
   ]
  },
  {
   "cell_type": "code",
   "execution_count": 14,
   "id": "5faab24b",
   "metadata": {},
   "outputs": [
    {
     "name": "stdout",
     "output_type": "stream",
     "text": [
      "Hey Bob\n"
     ]
    }
   ],
   "source": [
    "print(y)"
   ]
  },
  {
   "cell_type": "markdown",
   "id": "9e1a8bb1",
   "metadata": {},
   "source": [
    "You can also concatenate strings just like you add numbers. But you cannot add a number and a string. To do that, you can use the `str()` function on the number which will convert it to a string."
   ]
  },
  {
   "cell_type": "code",
   "execution_count": 15,
   "id": "b2747c6d",
   "metadata": {},
   "outputs": [
    {
     "name": "stdout",
     "output_type": "stream",
     "text": [
      "Hey Bob. How are you doing?\n"
     ]
    }
   ],
   "source": [
    "print(y + '. How are you doing?')"
   ]
  },
  {
   "cell_type": "code",
   "execution_count": 16,
   "id": "664f3b4f",
   "metadata": {},
   "outputs": [
    {
     "name": "stdout",
     "output_type": "stream",
     "text": [
      "My age is 32\n"
     ]
    }
   ],
   "source": [
    "print('My age is ' + str(32))"
   ]
  },
  {
   "cell_type": "markdown",
   "id": "8f8e3445",
   "metadata": {},
   "source": [
    "## Lists and Tuples\n",
    "Lists are used to store multiple items in a single variable. You can add any type of data in a list. Create a list by putting data separated by commas between square brackets."
   ]
  },
  {
   "cell_type": "code",
   "execution_count": 30,
   "id": "76935701",
   "metadata": {},
   "outputs": [],
   "source": [
    "mylist = [23, 'brian', 544, 'cats', 'dogs', 87]"
   ]
  },
  {
   "cell_type": "markdown",
   "id": "fee42a43",
   "metadata": {},
   "source": [
    "The list is indexed from 0 to n-1. You can access any item by specifying the number is square brackets. You can also retrieve range of items with slice notation which will itself be a list. (look more into [range](https://www.w3schools.com/python/ref_func_range.asp) function and arguments it takes)"
   ]
  },
  {
   "cell_type": "code",
   "execution_count": 31,
   "id": "3c3f655e",
   "metadata": {},
   "outputs": [
    {
     "data": {
      "text/plain": [
       "'cats'"
      ]
     },
     "execution_count": 31,
     "metadata": {},
     "output_type": "execute_result"
    }
   ],
   "source": [
    "mylist[3]"
   ]
  },
  {
   "cell_type": "code",
   "execution_count": 32,
   "id": "ee889ae7",
   "metadata": {},
   "outputs": [
    {
     "data": {
      "text/plain": [
       "['brian', 544, 'cats']"
      ]
     },
     "execution_count": 32,
     "metadata": {},
     "output_type": "execute_result"
    }
   ],
   "source": [
    "mylist[1:4]"
   ]
  },
  {
   "cell_type": "markdown",
   "id": "ead55b96",
   "metadata": {},
   "source": [
    "You can change elements of the list directly by specifying the new value to the required index, append an element with the append function and delete item with del function.\n"
   ]
  },
  {
   "cell_type": "code",
   "execution_count": 33,
   "id": "54783272",
   "metadata": {},
   "outputs": [
    {
     "data": {
      "text/plain": [
       "[23, 'brian', 34, 'cats', 'dogs', 87]"
      ]
     },
     "execution_count": 33,
     "metadata": {},
     "output_type": "execute_result"
    }
   ],
   "source": [
    "mylist[2] = 34\n",
    "mylist"
   ]
  },
  {
   "cell_type": "code",
   "execution_count": 34,
   "id": "97aed627",
   "metadata": {},
   "outputs": [
    {
     "data": {
      "text/plain": [
       "[23, 'brian', 34, 'cats', 'dogs', 87, 'alan']"
      ]
     },
     "execution_count": 34,
     "metadata": {},
     "output_type": "execute_result"
    }
   ],
   "source": [
    "mylist.append('alan')\n",
    "mylist"
   ]
  },
  {
   "cell_type": "code",
   "execution_count": 36,
   "id": "fa7be043",
   "metadata": {},
   "outputs": [
    {
     "data": {
      "text/plain": [
       "[23, 'brian', 34, 'cats', 87, 'alan']"
      ]
     },
     "execution_count": 36,
     "metadata": {},
     "output_type": "execute_result"
    }
   ],
   "source": [
    "del mylist[4]\n",
    "mylist"
   ]
  },
  {
   "cell_type": "markdown",
   "id": "892f911f",
   "metadata": {},
   "source": [
    "Tuples work just like list for indexing and calling, but they cannot be changed once specified. Tuples are written with round brackets. Tuples use brackets to store values."
   ]
  },
  {
   "cell_type": "code",
   "execution_count": 82,
   "id": "b8bb191e",
   "metadata": {},
   "outputs": [
    {
     "data": {
      "text/plain": [
       "236"
      ]
     },
     "execution_count": 82,
     "metadata": {},
     "output_type": "execute_result"
    }
   ],
   "source": [
    "mytuple = (34, 'apples', 6, 236, 'bananas')\n",
    "mytuple[3]"
   ]
  },
  {
   "cell_type": "markdown",
   "id": "b4419b6c",
   "metadata": {},
   "source": [
    "## If- Else\n",
    "Python relies on indentation (whitespace at the beginning of a line) to define scope in the code. Other programming languages often use curly-brackets for this purpose."
   ]
  },
  {
   "cell_type": "code",
   "execution_count": 37,
   "id": "c0abf89e",
   "metadata": {},
   "outputs": [
    {
     "name": "stdout",
     "output_type": "stream",
     "text": [
      "Greater than 2\n"
     ]
    }
   ],
   "source": [
    "p = 3\n",
    "if p>2:\n",
    "    print('Greater than 2')\n",
    "else:\n",
    "    print('Less than 2')"
   ]
  },
  {
   "cell_type": "markdown",
   "id": "d32e48b0",
   "metadata": {},
   "source": [
    "1. To check if the variable is equal to some value use `==`.\n",
    "2. You can also use boolean operators like `and`, `or`, and `not`.\n",
    "3. Another handy boolean is `in`. in checks if a value is contained in the list."
   ]
  },
  {
   "cell_type": "code",
   "execution_count": 83,
   "id": "de6ff3ec",
   "metadata": {},
   "outputs": [
    {
     "name": "stdout",
     "output_type": "stream",
     "text": [
      "q is not equal to 22\n",
      "either q is not equal to 22 or p is not greater than 2\n",
      "q is not equal to 45 or p is not less than 2 \n"
     ]
    }
   ],
   "source": [
    "q = 23\n",
    "if q==22:\n",
    "    print('q is equal to 22')\n",
    "else:\n",
    "    print('q is not equal to 22')\n",
    "    \n",
    "    \n",
    "if q==22 and p>2:\n",
    "    print('q is equal to 22 and p is greater than 2')\n",
    "else:\n",
    "    print('either q is not equal to 22 or p is not greater than 2')\n",
    "\n",
    "    \n",
    "if q==45 or not p>2:\n",
    "    print('q is equal to 45 or p is less than 2 ')\n",
    "else:\n",
    "    print('q is not equal to 45 or p is not less than 2 ')"
   ]
  },
  {
   "cell_type": "code",
   "execution_count": 85,
   "id": "3529e5a1",
   "metadata": {},
   "outputs": [
    {
     "name": "stdout",
     "output_type": "stream",
     "text": [
      "23 is contained in mylist\n"
     ]
    }
   ],
   "source": [
    "if 23 in mylist:\n",
    "    print('23 is contained in mylist')\n",
    "else:\n",
    "    print('23 is not contained in mylist')"
   ]
  },
  {
   "cell_type": "markdown",
   "id": "0399e77a",
   "metadata": {},
   "source": [
    "## for and while loops\n",
    "`for` loop is used for iterating over a sequence (like a list, tuple or even a string).\n"
   ]
  },
  {
   "cell_type": "code",
   "execution_count": 88,
   "id": "c964c48a",
   "metadata": {
    "scrolled": true
   },
   "outputs": [
    {
     "name": "stdout",
     "output_type": "stream",
     "text": [
      "7\n",
      "8\n",
      "9\n",
      "10\n",
      "11\n"
     ]
    }
   ],
   "source": [
    "for i in [3,4,5,6,7]:\n",
    "    print(i+4)"
   ]
  },
  {
   "cell_type": "markdown",
   "id": "8dd069b0",
   "metadata": {},
   "source": [
    "Or you can simply use the `range()` function. "
   ]
  },
  {
   "cell_type": "code",
   "execution_count": 48,
   "id": "2893f75c",
   "metadata": {},
   "outputs": [],
   "source": [
    "for i in range(3,8):\n",
    "    print(i+4)"
   ]
  },
  {
   "cell_type": "markdown",
   "id": "8733fa13",
   "metadata": {},
   "source": [
    "while works just like for. it takes boolean as argument and iterates untill it becomes False rather that iterating over the list like for. break stops the loop immediately and continue goes directly to next iteration without computing the code below."
   ]
  },
  {
   "cell_type": "code",
   "execution_count": null,
   "id": "117fdb8e",
   "metadata": {},
   "outputs": [],
   "source": [
    "x=4\n",
    "while x<8:\n",
    "    x=x+1\n",
    "    print(x)"
   ]
  },
  {
   "cell_type": "code",
   "execution_count": 57,
   "id": "28fcf9c3",
   "metadata": {},
   "outputs": [],
   "source": [
    "for i in [3,2,3,4,2,1,6,1,7,5]:\n",
    "    if i<5:\n",
    "        print(i)\n",
    "        continue\n",
    "    else:\n",
    "        break        "
   ]
  },
  {
   "cell_type": "markdown",
   "id": "a1369a33",
   "metadata": {},
   "source": [
    "You can also work with nested loops (loop inside a loop). The \"inner loop\" will be executed one time for each iteration of the \"outer loop\""
   ]
  },
  {
   "cell_type": "code",
   "execution_count": 55,
   "id": "52ef8ebb",
   "metadata": {},
   "outputs": [],
   "source": [
    "x = range(5)\n",
    "y = [4,6,2,6,4,5]\n",
    "\n",
    "for i in x:\n",
    "    for j in y:\n",
    "        print((i,j))\n",
    "        "
   ]
  },
  {
   "cell_type": "markdown",
   "id": "d04c3bfc",
   "metadata": {},
   "source": [
    "## Functions\n",
    "A function is a block of code which only runs when it is called. You can pass data, known as parameters, into a function. A function can return data as a result and uses return keyword for the same. We use def to intitialise a function. We call the function by writing function's name and writing the arguments inside the bracket."
   ]
  },
  {
   "cell_type": "code",
   "execution_count": 60,
   "id": "8d4f5d12",
   "metadata": {},
   "outputs": [
    {
     "name": "stdout",
     "output_type": "stream",
     "text": [
      "Hello from a function\n"
     ]
    }
   ],
   "source": [
    "def my_function():\n",
    "    print(\"Hello from a function\")\n",
    "\n",
    "my_function()  #no arguments for this function and doesn't return anything either"
   ]
  },
  {
   "cell_type": "code",
   "execution_count": 63,
   "id": "ba740b89",
   "metadata": {},
   "outputs": [
    {
     "data": {
      "text/plain": [
       "8"
      ]
     },
     "execution_count": 63,
     "metadata": {},
     "output_type": "execute_result"
    }
   ],
   "source": [
    "def new_function(input_value):\n",
    "    return input_value*2\n",
    "\n",
    "new_function(4)"
   ]
  },
  {
   "cell_type": "markdown",
   "id": "1d1594e7",
   "metadata": {},
   "source": [
    "If you do not know how many arguments that will be passed into your function, add a `*` before the parameter name in the function definition."
   ]
  },
  {
   "cell_type": "code",
   "execution_count": 66,
   "id": "f894e100",
   "metadata": {},
   "outputs": [],
   "source": [
    "def sample_function(*kids):\n",
    "    print(\"The youngest child is \" + kids[2])\n",
    "\n",
    "sample_function(\"Emil\", \"Tobias\", \"Linus\")"
   ]
  },
  {
   "cell_type": "markdown",
   "id": "60dad02a",
   "metadata": {},
   "source": [
    "## Libraries\n",
    "There are several built-in modules in Python, which you can import whenever you like. Modules contain several function which you can call by specifying which library it is from. You can also use short form of the library by using as keyword. "
   ]
  },
  {
   "cell_type": "code",
   "execution_count": 76,
   "id": "dded6743",
   "metadata": {},
   "outputs": [],
   "source": [
    "import math\n",
    "import random as rnd"
   ]
  },
  {
   "cell_type": "code",
   "execution_count": 77,
   "id": "b3ee44c8",
   "metadata": {},
   "outputs": [
    {
     "data": {
      "text/plain": [
       "1.4142135623730951"
      ]
     },
     "execution_count": 77,
     "metadata": {},
     "output_type": "execute_result"
    }
   ],
   "source": [
    "math.sqrt(2)"
   ]
  },
  {
   "cell_type": "code",
   "execution_count": 89,
   "id": "193d7895",
   "metadata": {},
   "outputs": [
    {
     "data": {
      "text/plain": [
       "0.6224728706307495"
      ]
     },
     "execution_count": 89,
     "metadata": {},
     "output_type": "execute_result"
    }
   ],
   "source": [
    "rnd.uniform(0,1)"
   ]
  },
  {
   "cell_type": "markdown",
   "id": "adbc6902",
   "metadata": {},
   "source": [
    "We are going to use libraries like numpy and scipy but you'll have to install them first to import. Follow the references given on Read Me and get yourself comfortable with the python. Then head over to the next section where we'll learn how to use numpy.   "
   ]
  }
 ],
 "metadata": {
  "celltoolbar": "Raw Cell Format",
  "kernelspec": {
   "display_name": "Python 3",
   "language": "python",
   "name": "python3"
  },
  "language_info": {
   "codemirror_mode": {
    "name": "ipython",
    "version": 3
   },
   "file_extension": ".py",
   "mimetype": "text/x-python",
   "name": "python",
   "nbconvert_exporter": "python",
   "pygments_lexer": "ipython3",
   "version": "3.8.8"
  }
 },
 "nbformat": 4,
 "nbformat_minor": 5
}
