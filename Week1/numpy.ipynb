{
 "cells": [
  {
   "cell_type": "markdown",
   "id": "1d1f5d1c",
   "metadata": {},
   "source": [
    "# NumPy\n",
    "Anaconda automatically installs NumPy to your system. Here we present a quick introduction to it and have some exercises for you to get familiarize with it. This will be part of the assignment for Week-1.\n",
    "\n",
    "Numpy works in arrays and is much faster than working with lists. If you want to get some idea of why, have a look at  [NumPy — Why is it so fast?](https://medium.com/swlh/numpy-why-is-it-so-fast-8087f4da4d79). You can call an array with numpy.array function and can create 0,1,2,3 or N-dimensional array."
   ]
  },
  {
   "cell_type": "code",
   "execution_count": 2,
   "id": "f40970bb",
   "metadata": {},
   "outputs": [],
   "source": [
    "import numpy as np"
   ]
  },
  {
   "cell_type": "code",
   "execution_count": 3,
   "id": "a48e2b2b",
   "metadata": {},
   "outputs": [],
   "source": [
    "arr_1D = np.array([5,4,6,2,3,8])"
   ]
  },
  {
   "cell_type": "code",
   "execution_count": 4,
   "id": "0f3d1a4e",
   "metadata": {},
   "outputs": [],
   "source": [
    "arr_2D = np.array([[2,3,4],[5,6,7]])\n",
    "arr_3D = np.array([[1,6,2,8],[5,4,6,2],[7,2,9,8]])"
   ]
  },
  {
   "cell_type": "code",
   "execution_count": 5,
   "id": "2ef93ae2",
   "metadata": {},
   "outputs": [
    {
     "name": "stdout",
     "output_type": "stream",
     "text": [
      "[5 6 7]\n",
      "8\n"
     ]
    }
   ],
   "source": [
    "print(arr_2D[1])\n",
    "print(arr_3D[0][3])"
   ]
  },
  {
   "cell_type": "markdown",
   "id": "2a65778e",
   "metadata": {},
   "source": [
    "You can also access a part of array with the slicing notation which is of the form [start : end : step]. If you don't give any value for step it is automatically assumed to be 1. The result includes the start index, but excludes the end index. Be careful about the indexing being used.\n"
   ]
  },
  {
   "cell_type": "code",
   "execution_count": 6,
   "id": "a97a8b83",
   "metadata": {},
   "outputs": [
    {
     "data": {
      "text/plain": [
       "array([4, 6, 2])"
      ]
     },
     "execution_count": 6,
     "metadata": {},
     "output_type": "execute_result"
    }
   ],
   "source": [
    "arr_1D[1:4]"
   ]
  },
  {
   "cell_type": "code",
   "execution_count": 7,
   "id": "987be7d3",
   "metadata": {},
   "outputs": [
    {
     "data": {
      "text/plain": [
       "array([[5, 4, 6, 2],\n",
       "       [7, 2, 9, 8]])"
      ]
     },
     "execution_count": 7,
     "metadata": {},
     "output_type": "execute_result"
    }
   ],
   "source": [
    "arr_3D[0:3][1:3]"
   ]
  },
  {
   "cell_type": "markdown",
   "id": "0028754a",
   "metadata": {},
   "source": [
    "Here, we give some examples of numpy functions."
   ]
  },
  {
   "cell_type": "code",
   "execution_count": 8,
   "id": "d7e0aff5",
   "metadata": {},
   "outputs": [
    {
     "data": {
      "text/plain": [
       "(2, 3)"
      ]
     },
     "execution_count": 8,
     "metadata": {},
     "output_type": "execute_result"
    }
   ],
   "source": [
    "arr_2D.shape # returns the shape of an array which is the number of elements in each dimension."
   ]
  },
  {
   "cell_type": "code",
   "execution_count": 9,
   "id": "f572dce5",
   "metadata": {},
   "outputs": [
    {
     "name": "stdout",
     "output_type": "stream",
     "text": [
      "[1 2 3 4 5 6]\n"
     ]
    }
   ],
   "source": [
    "arr1 = np.array([1, 2, 3])\n",
    "arr2 = np.array([4, 5, 6])\n",
    "arr = np.concatenate((arr1, arr2)) #joins the two arrays\n",
    "print(arr)"
   ]
  },
  {
   "cell_type": "code",
   "execution_count": 10,
   "id": "8595b416",
   "metadata": {},
   "outputs": [
    {
     "data": {
      "text/plain": [
       "[array([5, 4]), array([6, 2]), array([3, 8])]"
      ]
     },
     "execution_count": 10,
     "metadata": {},
     "output_type": "execute_result"
    }
   ],
   "source": [
    "np.split(arr_1D,3) #splits the array into 3"
   ]
  },
  {
   "cell_type": "code",
   "execution_count": 11,
   "id": "cc86ad2f",
   "metadata": {},
   "outputs": [
    {
     "data": {
      "text/plain": [
       "array([2, 3, 4, 5, 6, 8])"
      ]
     },
     "execution_count": 11,
     "metadata": {},
     "output_type": "execute_result"
    }
   ],
   "source": [
    "np.sort(arr_1D)"
   ]
  },
  {
   "cell_type": "code",
   "execution_count": 13,
   "id": "86275a76",
   "metadata": {},
   "outputs": [
    {
     "data": {
      "text/plain": [
       "array([2.  , 2.25, 2.5 , 2.75, 3.  ])"
      ]
     },
     "execution_count": 13,
     "metadata": {},
     "output_type": "execute_result"
    }
   ],
   "source": [
    "np.linspace(2, 3, num=5) #Return evenly spaced numbers over a specified interval."
   ]
  },
  {
   "cell_type": "code",
   "execution_count": 24,
   "id": "43d7d5b9",
   "metadata": {},
   "outputs": [],
   "source": [
    "a,b = np.meshgrid([0,1,2,3,4],[5,6,7,8,9,10,11])  #Creates a rectangular grid out of two 1D arrays(see https://www.geeksforgeeks.org/numpy-meshgrid-function/)"
   ]
  },
  {
   "cell_type": "markdown",
   "id": "44c6137b",
   "metadata": {},
   "source": [
    "There are many more useful numpy functions but you can easily look them up [w3schools](https://www.w3schools.com/python/numpy/) or [geeksforgeeks](https://www.geeksforgeeks.org/numpy-tutorial/). We encourage you to go through them and use google whenever you need any specific function. Now, we here are some questions for you to do which is part of you assignment for Week-1. You assignment should only contain functions which return the required output (Don't put any input by yourself. We'll test your code ourselves). Make a single jupyter notebook for both Matplotlib and NumPy assignment."
   ]
  },
  {
   "cell_type": "markdown",
   "id": "6e7bfc8e",
   "metadata": {},
   "source": [
    "1. Write a NumPy program to reverse an array (first element becomes last)."
   ]
  },
  {
   "cell_type": "markdown",
   "id": "51454a05",
   "metadata": {},
   "source": [
    "2. Write a NumPy program for finding the determinant of the 3D input matrix."
   ]
  },
  {
   "cell_type": "markdown",
   "id": "9ea08646",
   "metadata": {},
   "source": [
    "3. An electric field is given by $\\textbf{E} (z,t) = E_0 cos(z-t) \\hat{x} + 2E_0 cos(z-t+\\frac{\\pi}{2}) \\hat{y} $\n",
    "\n",
    "    1. Find the magnetic field for $z  \\in [0,4\\pi]$ and $t \\in [0,10]$ with 100 points each.\n",
    "\n",
    "    2. Compute the Poynting vector for the same."
   ]
  },
  {
   "cell_type": "code",
   "execution_count": null,
   "id": "bbd2a92f",
   "metadata": {},
   "outputs": [],
   "source": []
  }
 ],
 "metadata": {
  "kernelspec": {
   "display_name": "Python 3",
   "language": "python",
   "name": "python3"
  },
  "language_info": {
   "codemirror_mode": {
    "name": "ipython",
    "version": 3
   },
   "file_extension": ".py",
   "mimetype": "text/x-python",
   "name": "python",
   "nbconvert_exporter": "python",
   "pygments_lexer": "ipython3",
   "version": "3.8.8"
  }
 },
 "nbformat": 4,
 "nbformat_minor": 5
}
