{
 "cells": [
  {
   "cell_type": "markdown",
   "id": "a648f5d6",
   "metadata": {},
   "source": [
    "# NumPy\n",
    "Anaconda automatically installs NumPy to your system. Here we present a quick introduction to it and have some exercises for you to get familiarize with it. This will be part of the assignment for Week-1.\n",
    "\n",
    "Numpy works in arrays and is much faster than working with lists. If you want to get some idea of why, have a look at  [NumPy — Why is it so fast?](https://medium.com/swlh/numpy-why-is-it-so-fast-8087f4da4d79). You can call an array with numpy.array function and can create 0,1,2,3 or N-dimensional array."
   ]
  },
  {
   "cell_type": "code",
   "execution_count": 2,
   "id": "ff6fc270",
   "metadata": {},
   "outputs": [],
   "source": [
    "import numpy as np"
   ]
  },
  {
   "cell_type": "code",
   "execution_count": 3,
   "id": "760ef3ef",
   "metadata": {},
   "outputs": [],
   "source": [
    "arr_1D = np.array([5,4,6,2,3,8])"
   ]
  },
  {
   "cell_type": "code",
   "execution_count": 4,
   "id": "16a8bfcf",
   "metadata": {},
   "outputs": [],
   "source": [
    "arr_2D = np.array([[2,3,4],[5,6,7]])\n",
    "arr_3D = np.array([[1,6,2,8],[5,4,6,2],[7,2,9,8]])"
   ]
  },
  {
   "cell_type": "code",
   "execution_count": 5,
   "id": "5f64e961",
   "metadata": {},
   "outputs": [
    {
     "name": "stdout",
     "output_type": "stream",
     "text": [
      "[5 6 7]\n",
      "8\n"
     ]
    }
   ],
   "source": [
    "print(arr_2D[1])\n",
    "print(arr_3D[0][3])"
   ]
  },
  {
   "cell_type": "markdown",
   "id": "0f617450",
   "metadata": {},
   "source": [
    "You can also access a part of array with the slicing notation which is of the form [start : end : step]. If you don't give any value for step it is automatically assumed to be 1. The result includes the start index, but excludes the end index. Be careful about the indexing being used.\n"
   ]
  },
  {
   "cell_type": "code",
   "execution_count": 6,
   "id": "34caa117",
   "metadata": {},
   "outputs": [
    {
     "data": {
      "text/plain": [
       "array([4, 6, 2])"
      ]
     },
     "execution_count": 6,
     "metadata": {},
     "output_type": "execute_result"
    }
   ],
   "source": [
    "arr_1D[1:4]"
   ]
  },
  {
   "cell_type": "code",
   "execution_count": 7,
   "id": "67cc2667",
   "metadata": {},
   "outputs": [
    {
     "data": {
      "text/plain": [
       "array([[5, 4, 6, 2],\n",
       "       [7, 2, 9, 8]])"
      ]
     },
     "execution_count": 7,
     "metadata": {},
     "output_type": "execute_result"
    }
   ],
   "source": [
    "arr_3D[0:3][1:3]"
   ]
  },
  {
   "cell_type": "markdown",
   "id": "bf13d5fa",
   "metadata": {},
   "source": [
    "Here, we give some examples of numpy functions."
   ]
  },
  {
   "cell_type": "code",
   "execution_count": 8,
   "id": "73251945",
   "metadata": {},
   "outputs": [
    {
     "data": {
      "text/plain": [
       "(2, 3)"
      ]
     },
     "execution_count": 8,
     "metadata": {},
     "output_type": "execute_result"
    }
   ],
   "source": [
    "arr_2D.shape # returns the shape of an array which is the number of elements in each dimension."
   ]
  },
  {
   "cell_type": "code",
   "execution_count": 9,
   "id": "c15f9ec7",
   "metadata": {},
   "outputs": [
    {
     "name": "stdout",
     "output_type": "stream",
     "text": [
      "[1 2 3 4 5 6]\n"
     ]
    }
   ],
   "source": [
    "arr1 = np.array([1, 2, 3])\n",
    "arr2 = np.array([4, 5, 6])\n",
    "arr = np.concatenate((arr1, arr2)) #joins the two arrays\n",
    "print(arr)"
   ]
  },
  {
   "cell_type": "code",
   "execution_count": 10,
   "id": "a770387d",
   "metadata": {},
   "outputs": [
    {
     "data": {
      "text/plain": [
       "[array([5, 4]), array([6, 2]), array([3, 8])]"
      ]
     },
     "execution_count": 10,
     "metadata": {},
     "output_type": "execute_result"
    }
   ],
   "source": [
    "np.split(arr_1D,3) #splits the array into 3"
   ]
  },
  {
   "cell_type": "code",
   "execution_count": 11,
   "id": "b85c61ca",
   "metadata": {},
   "outputs": [
    {
     "data": {
      "text/plain": [
       "array([2, 3, 4, 5, 6, 8])"
      ]
     },
     "execution_count": 11,
     "metadata": {},
     "output_type": "execute_result"
    }
   ],
   "source": [
    "np.sort(arr_1D)"
   ]
  },
  {
   "cell_type": "code",
   "execution_count": 13,
   "id": "88c2839e",
   "metadata": {},
   "outputs": [
    {
     "data": {
      "text/plain": [
       "array([2.  , 2.25, 2.5 , 2.75, 3.  ])"
      ]
     },
     "execution_count": 13,
     "metadata": {},
     "output_type": "execute_result"
    }
   ],
   "source": [
    "np.linspace(2, 3, num=5) #Return evenly spaced numbers over a specified interval."
   ]
  },
  {
   "cell_type": "markdown",
   "id": "3b92b82d",
   "metadata": {},
   "source": [
    "There are many more useful numpy functions but you can easily look them up [w3schools](https://www.w3schools.com/python/numpy/) or [geeksforgeeks](https://www.geeksforgeeks.org/numpy-tutorial/). We encourage you to go through them and use google whenever you need any specific function. Now, we here are some questions for you to do which is part of you assignment for Week-1. You assignment should only contain functions which return the required output (Don't put any input by yourself. We'll test your code ourselves). Make a single jupyter notebook for both Matplotlib and NumPy assignment."
   ]
  },
  {
   "cell_type": "markdown",
   "id": "88f3f9dd",
   "metadata": {},
   "source": [
    " 1. Write a NumPy program to multiply two given arrays of same size element-by-element. \n"
   ]
  },
  {
   "cell_type": "markdown",
   "id": "a896d58e",
   "metadata": {},
   "source": [
    " 2. Write a NumPy program to reverse an array (first element becomes last).\n"
   ]
  },
  {
   "cell_type": "markdown",
   "id": "b131b019",
   "metadata": {},
   "source": [
    " 3. Write a NumPy program which will remove all the elements between 5 and 8.\n",
    " "
   ]
  },
  {
   "cell_type": "markdown",
   "id": "2f2fe1b1",
   "metadata": {},
   "source": [
    "4. Write a NumPy program for finding the determinant of the 3D input matrix.\n"
   ]
  },
  {
   "cell_type": "markdown",
   "id": "12702624",
   "metadata": {},
   "source": [
    " 5. Write a NumPy program which swaps the two rows of 2D array.\n"
   ]
  },
  {
   "cell_type": "markdown",
   "id": "65d85676",
   "metadata": {},
   "source": [
    " 6. Write a NumPy program to find most frequent value in an array."
   ]
  },
  {
   "cell_type": "code",
   "execution_count": null,
   "id": "ccc6c937",
   "metadata": {},
   "outputs": [],
   "source": []
  }
 ],
 "metadata": {
  "kernelspec": {
   "display_name": "Python 3",
   "language": "python",
   "name": "python3"
  },
  "language_info": {
   "codemirror_mode": {
    "name": "ipython",
    "version": 3
   },
   "file_extension": ".py",
   "mimetype": "text/x-python",
   "name": "python",
   "nbconvert_exporter": "python",
   "pygments_lexer": "ipython3",
   "version": "3.8.8"
  }
 },
 "nbformat": 4,
 "nbformat_minor": 5
}
